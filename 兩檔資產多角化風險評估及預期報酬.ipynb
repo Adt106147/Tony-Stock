{
 "cells": [
  {
   "cell_type": "code",
   "execution_count": 1,
   "metadata": {},
   "outputs": [
    {
     "name": "stdout",
     "output_type": "stream",
     "text": [
      "請輸入第一檔股票代號:(台股代號+.TW) 2330.tw\n",
      "\n",
      "請輸入第二檔股票代號:(台股代號+.TW) 0050.tw\n"
     ]
    }
   ],
   "source": [
    "import numpy as np\n",
    "import pandas as pd\n",
    "from pandas_datareader import data as wb\n",
    "import matplotlib.pyplot as plt\n",
    "stock1 = input(\"請輸入第一檔股票代號(台股代號+.TW): \")\n",
    "x1 = str(stock1)\n",
    "stock2 = input(\"\\n請輸入第二檔股票代號(台股代號+.TW): \")\n",
    "x2 = str(stock2)"
   ]
  },
  {
   "cell_type": "code",
   "execution_count": 12,
   "metadata": {},
   "outputs": [
    {
     "data": {
      "text/html": [
       "<div>\n",
       "<style scoped>\n",
       "    .dataframe tbody tr th:only-of-type {\n",
       "        vertical-align: middle;\n",
       "    }\n",
       "\n",
       "    .dataframe tbody tr th {\n",
       "        vertical-align: top;\n",
       "    }\n",
       "\n",
       "    .dataframe thead th {\n",
       "        text-align: right;\n",
       "    }\n",
       "</style>\n",
       "<table border=\"1\" class=\"dataframe\">\n",
       "  <thead>\n",
       "    <tr style=\"text-align: right;\">\n",
       "      <th></th>\n",
       "      <th>2330.tw</th>\n",
       "      <th>0050.tw</th>\n",
       "    </tr>\n",
       "    <tr>\n",
       "      <th>Date</th>\n",
       "      <th></th>\n",
       "      <th></th>\n",
       "    </tr>\n",
       "  </thead>\n",
       "  <tbody>\n",
       "    <tr>\n",
       "      <th>2019-12-11</th>\n",
       "      <td>0.017392</td>\n",
       "      <td>0.008032</td>\n",
       "    </tr>\n",
       "    <tr>\n",
       "      <th>2019-12-12</th>\n",
       "      <td>0.038437</td>\n",
       "      <td>0.022153</td>\n",
       "    </tr>\n",
       "    <tr>\n",
       "      <th>2019-12-13</th>\n",
       "      <td>0.022372</td>\n",
       "      <td>0.010895</td>\n",
       "    </tr>\n",
       "    <tr>\n",
       "      <th>2019-12-16</th>\n",
       "      <td>-0.008889</td>\n",
       "      <td>NaN</td>\n",
       "    </tr>\n",
       "    <tr>\n",
       "      <th>2019-12-17</th>\n",
       "      <td>0.026433</td>\n",
       "      <td>NaN</td>\n",
       "    </tr>\n",
       "  </tbody>\n",
       "</table>\n",
       "</div>"
      ],
      "text/plain": [
       "             2330.tw   0050.tw\n",
       "Date                          \n",
       "2019-12-11  0.017392  0.008032\n",
       "2019-12-12  0.038437  0.022153\n",
       "2019-12-13  0.022372  0.010895\n",
       "2019-12-16 -0.008889       NaN\n",
       "2019-12-17  0.026433       NaN"
      ]
     },
     "execution_count": 12,
     "metadata": {},
     "output_type": "execute_result"
    }
   ],
   "source": [
    "portfolio = [x1,x2]\n",
    "stock_data = pd.DataFrame()\n",
    "for t in portfolio:\n",
    "    stock_data[t] = wb.DataReader(t, data_source=\"yahoo\", start=\"2000-12-17\")[\"Adj Close\"]\n",
    "stock_returns = np.log(stock_data / stock_data.shift(1)) "
   ]
  },
  {
   "cell_type": "code",
   "execution_count": 32,
   "metadata": {},
   "outputs": [
    {
     "name": "stdout",
     "output_type": "stream",
     "text": [
      "最適資產配置為:\n",
      "2330.tw  0.53\n",
      "0050.tw  0.47\n",
      "預期報酬率為: 10.202%\n",
      "可多角化掉的風險為: 1.9762632619037837%\n"
     ]
    }
   ],
   "source": [
    "a = stock_returns.cov()*250 ##civ(x1,x2)-matrix##\n",
    "mvp1 = round(((a[x2][1]**2)-a[x2][0])/(a[x1][0]**2+a[x2][1]**2-2*a[x2][0]),2) ##最適配置##\n",
    "xr1 = stock_returns[x1].mean()*250      ##x1的預期報酬##\n",
    "xr2 = stock_returns[x2].mean()*250      ##x2的預期報酬##\n",
    "er = xr1*mvp1+xr2*(1-mvp1)     ##投組預期報酬##\n",
    "print(\"最適資產配置為:\\n\"+x1+\"  \"+str(mvp1)+\"\\n\"+x2+\"  \"+str(1-mvp1)+\"\\n預期報酬率為: \"+str(round(er*100,3))+\"%\")\n",
    "\n",
    "weights = np.array([mvp1,1-mvp1])\n",
    "portfolio_var = (np.dot(weights.T,np.dot(a,weights)))\n",
    "dr = portfolio_var-(weights[0]**2*a[x1][0])-(weights[1]**2*a[x2][1])\n",
    "print(\"可多角化掉的風險為: \"+str(dr*100)+\"%\")"
   ]
  },
  {
   "cell_type": "code",
   "execution_count": 34,
   "metadata": {},
   "outputs": [
    {
     "name": "stdout",
     "output_type": "stream",
     "text": [
      "請輸入2330.tw之權重: 0.52\n",
      "\n",
      "資產配置為:\n",
      "2330.tw  0.52\n",
      "0050.tw  0.48\n",
      "預期報酬率為: 10.111%\n",
      "可多角化掉的風險為: 1.9802300689328973%\n"
     ]
    }
   ],
   "source": [
    "##其他配置測試##\n",
    "w1 = float(input(\"請輸入\"+x1+\"之權重: \"))\n",
    "weights1 = np.array([w1,1-w1])\n",
    "er1 = xr1*weights1[0]+xr2*weights1[1]\n",
    "print(\"\\n資產配置為:\\n\"+x1+\"  \"+str(w1)+\"\\n\"+x2+\"  \"+str(1-w1))\n",
    "print(\"預期報酬率為: \"+str(round((er1*100),3))+\"%\")\n",
    "\n",
    "portfolio_var = (np.dot(weights1.T,np.dot(a,weights1)))\n",
    "dr = portfolio_var-(weights1[0]**2*a[x1][0])-(weights1[1]**2*a[x2][1])\n",
    "print(\"可多角化掉的風險為: \"+str(dr*100)+\"%\")"
   ]
  },
  {
   "cell_type": "code",
   "execution_count": null,
   "metadata": {},
   "outputs": [],
   "source": [
    "stock_returns[x1].plot(figsize=(8,5)) ##x1報酬率波動##"
   ]
  },
  {
   "cell_type": "code",
   "execution_count": null,
   "metadata": {},
   "outputs": [],
   "source": [
    "stock_returns[x2].plot(figsize=(8,5)) ##x2報酬率波動##"
   ]
  }
 ],
 "metadata": {
  "kernelspec": {
   "display_name": "Python 3",
   "language": "python",
   "name": "python3"
  },
  "language_info": {
   "codemirror_mode": {
    "name": "ipython",
    "version": 3
   },
   "file_extension": ".py",
   "mimetype": "text/x-python",
   "name": "python",
   "nbconvert_exporter": "python",
   "pygments_lexer": "ipython3",
   "version": "3.7.3"
  }
 },
 "nbformat": 4,
 "nbformat_minor": 2
}
